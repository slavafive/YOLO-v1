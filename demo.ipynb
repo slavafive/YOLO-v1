{
 "cells": [
  {
   "cell_type": "markdown",
   "source": [
    "# Import"
   ],
   "metadata": {
    "collapsed": false
   }
  },
  {
   "cell_type": "code",
   "execution_count": 1,
   "outputs": [],
   "source": [
    "import torch"
   ],
   "metadata": {
    "collapsed": false
   }
  },
  {
   "cell_type": "markdown",
   "source": [
    "# IoU"
   ],
   "metadata": {
    "collapsed": false
   }
  },
  {
   "cell_type": "code",
   "execution_count": 2,
   "outputs": [],
   "source": [
    "from yolo.src.metrics import iou"
   ],
   "metadata": {
    "collapsed": false
   }
  },
  {
   "cell_type": "code",
   "execution_count": 3,
   "outputs": [],
   "source": [
    "pred = torch.tensor([\n",
    "    [3, 3, 7, 7],\n",
    "    [1, -1, 3, 2],\n",
    "    [1, 1, 2, 2]\n",
    "])\n",
    "\n",
    "true = torch.tensor([\n",
    "    [4, 4, 8, 8],\n",
    "    [2, -1, 3, 2],\n",
    "    [3, 3, 4, 4]\n",
    "])"
   ],
   "metadata": {
    "collapsed": false
   }
  },
  {
   "cell_type": "code",
   "execution_count": 4,
   "outputs": [
    {
     "data": {
      "text/plain": "tensor([0.3913, 0.5000, 0.0000])"
     },
     "execution_count": 4,
     "metadata": {},
     "output_type": "execute_result"
    }
   ],
   "source": [
    "iou(pred, true, format='pascal_voc')"
   ],
   "metadata": {
    "collapsed": false
   }
  },
  {
   "cell_type": "markdown",
   "source": [
    "# Non max suppresion"
   ],
   "metadata": {
    "collapsed": false
   }
  },
  {
   "cell_type": "code",
   "execution_count": 11,
   "outputs": [],
   "source": [
    "from collections import defaultdict"
   ],
   "metadata": {
    "collapsed": false
   }
  },
  {
   "cell_type": "code",
   "execution_count": 5,
   "outputs": [],
   "source": [
    "# pred = [\n",
    "#     [class, prob, x1, y1, x2, y2]\n",
    "# ]"
   ],
   "metadata": {
    "collapsed": false
   }
  },
  {
   "cell_type": "code",
   "execution_count": 41,
   "outputs": [],
   "source": [
    "predictions = [\n",
    "    [1, 0.6, 4, 4, 7, 7],\n",
    "    [2, 0.7, 3, 3, 5, 5],\n",
    "    [2, 0.8, 2, 2, 3, 3],\n",
    "    [2, 0.6, 3, 3, 4.9, 4.9]\n",
    "]\n",
    "iou_threshold = 0.5\n",
    "prob_threshold = 0.3\n",
    "box_format = 'pascal_voc'"
   ],
   "metadata": {
    "collapsed": false
   }
  }
 ],
 "metadata": {
  "kernelspec": {
   "display_name": "Python 3",
   "language": "python",
   "name": "python3"
  },
  "language_info": {
   "codemirror_mode": {
    "name": "ipython",
    "version": 2
   },
   "file_extension": ".py",
   "mimetype": "text/x-python",
   "name": "python",
   "nbconvert_exporter": "python",
   "pygments_lexer": "ipython2",
   "version": "2.7.6"
  }
 },
 "nbformat": 4,
 "nbformat_minor": 0
}

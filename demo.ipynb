{
 "cells": [
  {
   "cell_type": "markdown",
   "source": [
    "# Import"
   ],
   "metadata": {
    "collapsed": false
   }
  },
  {
   "cell_type": "code",
   "execution_count": 47,
   "outputs": [],
   "source": [
    "import torch\n",
    "import numpy as np\n",
    "from itertools import pairwise"
   ],
   "metadata": {
    "collapsed": false
   }
  },
  {
   "cell_type": "markdown",
   "source": [
    "# Mean average precision"
   ],
   "metadata": {
    "collapsed": false
   }
  },
  {
   "cell_type": "code",
   "execution_count": 50,
   "outputs": [],
   "source": [
    "eps = 1e-4"
   ],
   "metadata": {
    "collapsed": false
   }
  },
  {
   "cell_type": "code",
   "execution_count": 56,
   "outputs": [],
   "source": [
    "all_boxes = [\n",
    "    {\n",
    "        'pred': [\n",
    "            [0, 0, 0.9, 0.55, 0.2, 0.3, 0.2],\n",
    "            [0, 0, 0.8, 0.35, 0.6, 0.3, 0.2],\n",
    "            [0, 0, 0.7, 0.8, 0.7, 0.2, 0.2]\n",
    "        ],\n",
    "        'true': [\n",
    "            [0, 0, 0.9, 0.55, 0.2, 0.3, 0.2],\n",
    "            [0, 0, 0.8, 0.35, 0.6, 0.3, 0.2],\n",
    "            [0, 0, 0.7, 0.8, 0.7, 0.2, 0.2]\n",
    "        ],\n",
    "        'iou_threshold': 0.5,\n",
    "        'format': 'midpoint',\n",
    "        'num_classes': 1,\n",
    "        'map': 1\n",
    "    },\n",
    "    {\n",
    "        'pred': [\n",
    "            [1, 0, 0.9, 0.55, 0.2, 0.3, 0.2],\n",
    "            [0, 0, 0.8, 0.35, 0.6, 0.3, 0.2],\n",
    "            [0, 0, 0.7, 0.8, 0.7, 0.2, 0.2]\n",
    "        ],\n",
    "        'true': [\n",
    "            [1, 0, 0.9, 0.55, 0.2, 0.3, 0.2],\n",
    "            [0, 0, 0.8, 0.35, 0.6, 0.3, 0.2],\n",
    "            [0, 0, 0.7, 0.8, 0.7, 0.2, 0.2]\n",
    "        ],\n",
    "        'iou_threshold': 0.5,\n",
    "        'format': 'midpoint',\n",
    "        'num_classes': 1,\n",
    "        'map': 1\n",
    "    },\n",
    "    {\n",
    "        'pred': [\n",
    "            [0, 1, 0.9, 0.55, 0.2, 0.3, 0.2],\n",
    "            [0, 1, 0.8, 0.35, 0.6, 0.3, 0.2],\n",
    "            [0, 1, 0.7, 0.8, 0.7, 0.2, 0.2]\n",
    "        ],\n",
    "        'true': [\n",
    "            [0, 0, 0.9, 0.55, 0.2, 0.3, 0.2],\n",
    "            [0, 0, 0.8, 0.35, 0.6, 0.3, 0.2],\n",
    "            [0, 0, 0.7, 0.8, 0.7, 0.2, 0.2]\n",
    "        ],\n",
    "        'iou_threshold': 0.5,\n",
    "        'format': 'midpoint',\n",
    "        'num_classes': 2,\n",
    "        'map': 0\n",
    "    },\n",
    "    {\n",
    "        'pred': [\n",
    "            [0, 0, 0.9, 0.15, 0.25, 0.1, 0.1],\n",
    "            [0, 0, 0.8, 0.35, 0.6, 0.3, 0.2],\n",
    "            [0, 0, 0.7, 0.8, 0.7, 0.2, 0.2]\n",
    "        ],\n",
    "        'true': [\n",
    "            [0, 0, 0.9, 0.55, 0.2, 0.3, 0.2],\n",
    "            [0, 0, 0.8, 0.35, 0.6, 0.3, 0.2],\n",
    "            [0, 0, 0.7, 0.8, 0.7, 0.2, 0.2]\n",
    "        ],\n",
    "        'iou_threshold': 0.5,\n",
    "        'format': 'midpoint',\n",
    "        'num_classes': 1,\n",
    "        'map': 5 / 18\n",
    "    },\n",
    "]"
   ],
   "metadata": {
    "collapsed": false
   }
  },
  {
   "cell_type": "code",
   "execution_count": 57,
   "outputs": [],
   "source": [
    "from yolo.src.metrics import iou"
   ],
   "metadata": {
    "collapsed": false
   }
  },
  {
   "cell_type": "code",
   "execution_count": 91,
   "outputs": [],
   "source": [
    "def mean_average_precision(pred, true, iou_threshold, format: str = 'pascal_voc', num_classes: int = 20):\n",
    "    auc_values = []\n",
    "    for class_num in range(num_classes):\n",
    "        boxes = [box for box in pred if box[1] == class_num]\n",
    "        boxes = sorted(boxes, key=lambda x: x[2], reverse=True) # sort by score\n",
    "        TP = FP = 0\n",
    "        precision = [1]\n",
    "        recall = [0]\n",
    "        for pred_box in boxes:\n",
    "            image_num = pred_box[0]\n",
    "            gt_boxes = [box for box in true if box[0] == image_num and box[1] == class_num]\n",
    "            max_iou, corresponding_box_index = 0, -1\n",
    "            for i, gt_box in enumerate(gt_boxes):\n",
    "                current_iou = iou(torch.tensor(pred_box[3:]).unsqueeze(0), torch.tensor(gt_box[3:]).unsqueeze(0), format)[0].item()\n",
    "                if current_iou > max_iou:\n",
    "                    max_iou = current_iou\n",
    "                    corresponding_box_index = i\n",
    "            if corresponding_box_index == -1 or max_iou < iou_threshold:\n",
    "                FP += 1\n",
    "            else:\n",
    "                TP += 1\n",
    "                gt_boxes.pop(corresponding_box_index)\n",
    "            precision.append(TP / (TP + FP))\n",
    "            recall.append(TP / len(boxes))\n",
    "        auc_values.append(torch.trapz(torch.tensor(precision), torch.tensor(recall)).item())\n",
    "    return np.mean(auc_values)"
   ],
   "metadata": {
    "collapsed": false
   }
  },
  {
   "cell_type": "code",
   "execution_count": 92,
   "outputs": [
    {
     "name": "stdout",
     "output_type": "stream",
     "text": [
      "\n",
      "Test 1\n",
      "1 1.0\n",
      "\n",
      "Test 2\n",
      "1 1.0\n",
      "\n",
      "Test 3\n",
      "0 0.0\n",
      "\n",
      "Test 4\n",
      "0.2777777777777778 0.2777777910232544\n"
     ]
    }
   ],
   "source": [
    "for i, box in enumerate(all_boxes):\n",
    "    print(f\"\\nTest {i + 1}\")\n",
    "    mean_avg_precision = mean_average_precision(box['pred'], box['true'], box['iou_threshold'], box['format'], box['num_classes'])\n",
    "    print(box['map'], mean_avg_precision)"
   ],
   "metadata": {
    "collapsed": false
   }
  },
  {
   "cell_type": "code",
   "execution_count": null,
   "outputs": [],
   "source": [],
   "metadata": {
    "collapsed": false
   }
  }
 ],
 "metadata": {
  "kernelspec": {
   "display_name": "Python 3",
   "language": "python",
   "name": "python3"
  },
  "language_info": {
   "codemirror_mode": {
    "name": "ipython",
    "version": 2
   },
   "file_extension": ".py",
   "mimetype": "text/x-python",
   "name": "python",
   "nbconvert_exporter": "python",
   "pygments_lexer": "ipython2",
   "version": "2.7.6"
  }
 },
 "nbformat": 4,
 "nbformat_minor": 0
}
